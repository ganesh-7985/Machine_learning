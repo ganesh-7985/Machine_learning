{
  "nbformat": 4,
  "nbformat_minor": 0,
  "metadata": {
    "colab": {
      "provenance": [],
      "gpuType": "T4",
      "authorship_tag": "ABX9TyP7oIIMAIDVphWOOVV4RsxH",
      "include_colab_link": true
    },
    "kernelspec": {
      "name": "python3",
      "display_name": "Python 3"
    },
    "language_info": {
      "name": "python"
    },
    "accelerator": "GPU"
  },
  "cells": [
    {
      "cell_type": "markdown",
      "metadata": {
        "id": "view-in-github",
        "colab_type": "text"
      },
      "source": [
        "<a href=\"https://colab.research.google.com/github/ganesh-7985/Machine_learning/blob/main/ann_fashion_mnist_pytorch.ipynb\" target=\"_parent\"><img src=\"https://colab.research.google.com/assets/colab-badge.svg\" alt=\"Open In Colab\"/></a>"
      ]
    },
    {
      "cell_type": "code",
      "execution_count": 53,
      "metadata": {
        "id": "Fq0iqnAsexNe"
      },
      "outputs": [],
      "source": [
        "import torch\n",
        "import pandas as pd\n",
        "from torch.utils.data import Dataset, DataLoader\n",
        "from sklearn.model_selection import train_test_split\n",
        "import torch.nn as nn\n",
        "import torch.optim as optim\n",
        "import matplotlib.pyplot as plt\n"
      ]
    },
    {
      "cell_type": "code",
      "source": [
        "torch.manual_seed(42);"
      ],
      "metadata": {
        "id": "uunGOv-ofX1W"
      },
      "execution_count": 54,
      "outputs": []
    },
    {
      "cell_type": "code",
      "source": [
        "device = torch.device('cuda' if torch.cuda.is_available() else 'cpu')\n",
        "print(f\"using device:{device}\")"
      ],
      "metadata": {
        "colab": {
          "base_uri": "https://localhost:8080/"
        },
        "id": "PWGyi_TopzGs",
        "outputId": "0b55c10d-c5ed-4dbe-97aa-a1012d1349f6"
      },
      "execution_count": 55,
      "outputs": [
        {
          "output_type": "stream",
          "name": "stdout",
          "text": [
            "using device:cuda\n"
          ]
        }
      ]
    },
    {
      "cell_type": "markdown",
      "source": [],
      "metadata": {
        "id": "u3XBR4naqtoj"
      }
    },
    {
      "cell_type": "code",
      "source": [
        "df = pd.read_csv('/content/fashion-mnist_train.csv')"
      ],
      "metadata": {
        "id": "n4MlLkgxfhG9"
      },
      "execution_count": 56,
      "outputs": []
    },
    {
      "cell_type": "code",
      "source": [
        "df.head()"
      ],
      "metadata": {
        "colab": {
          "base_uri": "https://localhost:8080/",
          "height": 256
        },
        "id": "SBRCgLy1f01m",
        "outputId": "9a57c8e2-e7f8-4835-b06e-a8b7a7dd39b3"
      },
      "execution_count": 57,
      "outputs": [
        {
          "output_type": "execute_result",
          "data": {
            "text/plain": [
              "   label  pixel1  pixel2  pixel3  pixel4  pixel5  pixel6  pixel7  pixel8  \\\n",
              "0      2       0       0       0       0       0       0       0       0   \n",
              "1      9       0       0       0       0       0       0       0       0   \n",
              "2      6       0       0       0       0       0       0       0       5   \n",
              "3      0       0       0       0       1       2       0       0       0   \n",
              "4      3       0       0       0       0       0       0       0       0   \n",
              "\n",
              "   pixel9  ...  pixel775  pixel776  pixel777  pixel778  pixel779  pixel780  \\\n",
              "0       0  ...         0         0         0         0         0         0   \n",
              "1       0  ...         0         0         0         0         0         0   \n",
              "2       0  ...         0         0         0        30        43         0   \n",
              "3       0  ...         3         0         0         0         0         1   \n",
              "4       0  ...         0         0         0         0         0         0   \n",
              "\n",
              "   pixel781  pixel782  pixel783  pixel784  \n",
              "0         0         0         0         0  \n",
              "1         0         0         0         0  \n",
              "2         0         0         0         0  \n",
              "3         0         0         0         0  \n",
              "4         0         0         0         0  \n",
              "\n",
              "[5 rows x 785 columns]"
            ],
            "text/html": [
              "\n",
              "  <div id=\"df-bd272e1a-1d87-4de6-8474-dab945fc8034\" class=\"colab-df-container\">\n",
              "    <div>\n",
              "<style scoped>\n",
              "    .dataframe tbody tr th:only-of-type {\n",
              "        vertical-align: middle;\n",
              "    }\n",
              "\n",
              "    .dataframe tbody tr th {\n",
              "        vertical-align: top;\n",
              "    }\n",
              "\n",
              "    .dataframe thead th {\n",
              "        text-align: right;\n",
              "    }\n",
              "</style>\n",
              "<table border=\"1\" class=\"dataframe\">\n",
              "  <thead>\n",
              "    <tr style=\"text-align: right;\">\n",
              "      <th></th>\n",
              "      <th>label</th>\n",
              "      <th>pixel1</th>\n",
              "      <th>pixel2</th>\n",
              "      <th>pixel3</th>\n",
              "      <th>pixel4</th>\n",
              "      <th>pixel5</th>\n",
              "      <th>pixel6</th>\n",
              "      <th>pixel7</th>\n",
              "      <th>pixel8</th>\n",
              "      <th>pixel9</th>\n",
              "      <th>...</th>\n",
              "      <th>pixel775</th>\n",
              "      <th>pixel776</th>\n",
              "      <th>pixel777</th>\n",
              "      <th>pixel778</th>\n",
              "      <th>pixel779</th>\n",
              "      <th>pixel780</th>\n",
              "      <th>pixel781</th>\n",
              "      <th>pixel782</th>\n",
              "      <th>pixel783</th>\n",
              "      <th>pixel784</th>\n",
              "    </tr>\n",
              "  </thead>\n",
              "  <tbody>\n",
              "    <tr>\n",
              "      <th>0</th>\n",
              "      <td>2</td>\n",
              "      <td>0</td>\n",
              "      <td>0</td>\n",
              "      <td>0</td>\n",
              "      <td>0</td>\n",
              "      <td>0</td>\n",
              "      <td>0</td>\n",
              "      <td>0</td>\n",
              "      <td>0</td>\n",
              "      <td>0</td>\n",
              "      <td>...</td>\n",
              "      <td>0</td>\n",
              "      <td>0</td>\n",
              "      <td>0</td>\n",
              "      <td>0</td>\n",
              "      <td>0</td>\n",
              "      <td>0</td>\n",
              "      <td>0</td>\n",
              "      <td>0</td>\n",
              "      <td>0</td>\n",
              "      <td>0</td>\n",
              "    </tr>\n",
              "    <tr>\n",
              "      <th>1</th>\n",
              "      <td>9</td>\n",
              "      <td>0</td>\n",
              "      <td>0</td>\n",
              "      <td>0</td>\n",
              "      <td>0</td>\n",
              "      <td>0</td>\n",
              "      <td>0</td>\n",
              "      <td>0</td>\n",
              "      <td>0</td>\n",
              "      <td>0</td>\n",
              "      <td>...</td>\n",
              "      <td>0</td>\n",
              "      <td>0</td>\n",
              "      <td>0</td>\n",
              "      <td>0</td>\n",
              "      <td>0</td>\n",
              "      <td>0</td>\n",
              "      <td>0</td>\n",
              "      <td>0</td>\n",
              "      <td>0</td>\n",
              "      <td>0</td>\n",
              "    </tr>\n",
              "    <tr>\n",
              "      <th>2</th>\n",
              "      <td>6</td>\n",
              "      <td>0</td>\n",
              "      <td>0</td>\n",
              "      <td>0</td>\n",
              "      <td>0</td>\n",
              "      <td>0</td>\n",
              "      <td>0</td>\n",
              "      <td>0</td>\n",
              "      <td>5</td>\n",
              "      <td>0</td>\n",
              "      <td>...</td>\n",
              "      <td>0</td>\n",
              "      <td>0</td>\n",
              "      <td>0</td>\n",
              "      <td>30</td>\n",
              "      <td>43</td>\n",
              "      <td>0</td>\n",
              "      <td>0</td>\n",
              "      <td>0</td>\n",
              "      <td>0</td>\n",
              "      <td>0</td>\n",
              "    </tr>\n",
              "    <tr>\n",
              "      <th>3</th>\n",
              "      <td>0</td>\n",
              "      <td>0</td>\n",
              "      <td>0</td>\n",
              "      <td>0</td>\n",
              "      <td>1</td>\n",
              "      <td>2</td>\n",
              "      <td>0</td>\n",
              "      <td>0</td>\n",
              "      <td>0</td>\n",
              "      <td>0</td>\n",
              "      <td>...</td>\n",
              "      <td>3</td>\n",
              "      <td>0</td>\n",
              "      <td>0</td>\n",
              "      <td>0</td>\n",
              "      <td>0</td>\n",
              "      <td>1</td>\n",
              "      <td>0</td>\n",
              "      <td>0</td>\n",
              "      <td>0</td>\n",
              "      <td>0</td>\n",
              "    </tr>\n",
              "    <tr>\n",
              "      <th>4</th>\n",
              "      <td>3</td>\n",
              "      <td>0</td>\n",
              "      <td>0</td>\n",
              "      <td>0</td>\n",
              "      <td>0</td>\n",
              "      <td>0</td>\n",
              "      <td>0</td>\n",
              "      <td>0</td>\n",
              "      <td>0</td>\n",
              "      <td>0</td>\n",
              "      <td>...</td>\n",
              "      <td>0</td>\n",
              "      <td>0</td>\n",
              "      <td>0</td>\n",
              "      <td>0</td>\n",
              "      <td>0</td>\n",
              "      <td>0</td>\n",
              "      <td>0</td>\n",
              "      <td>0</td>\n",
              "      <td>0</td>\n",
              "      <td>0</td>\n",
              "    </tr>\n",
              "  </tbody>\n",
              "</table>\n",
              "<p>5 rows × 785 columns</p>\n",
              "</div>\n",
              "    <div class=\"colab-df-buttons\">\n",
              "\n",
              "  <div class=\"colab-df-container\">\n",
              "    <button class=\"colab-df-convert\" onclick=\"convertToInteractive('df-bd272e1a-1d87-4de6-8474-dab945fc8034')\"\n",
              "            title=\"Convert this dataframe to an interactive table.\"\n",
              "            style=\"display:none;\">\n",
              "\n",
              "  <svg xmlns=\"http://www.w3.org/2000/svg\" height=\"24px\" viewBox=\"0 -960 960 960\">\n",
              "    <path d=\"M120-120v-720h720v720H120Zm60-500h600v-160H180v160Zm220 220h160v-160H400v160Zm0 220h160v-160H400v160ZM180-400h160v-160H180v160Zm440 0h160v-160H620v160ZM180-180h160v-160H180v160Zm440 0h160v-160H620v160Z\"/>\n",
              "  </svg>\n",
              "    </button>\n",
              "\n",
              "  <style>\n",
              "    .colab-df-container {\n",
              "      display:flex;\n",
              "      gap: 12px;\n",
              "    }\n",
              "\n",
              "    .colab-df-convert {\n",
              "      background-color: #E8F0FE;\n",
              "      border: none;\n",
              "      border-radius: 50%;\n",
              "      cursor: pointer;\n",
              "      display: none;\n",
              "      fill: #1967D2;\n",
              "      height: 32px;\n",
              "      padding: 0 0 0 0;\n",
              "      width: 32px;\n",
              "    }\n",
              "\n",
              "    .colab-df-convert:hover {\n",
              "      background-color: #E2EBFA;\n",
              "      box-shadow: 0px 1px 2px rgba(60, 64, 67, 0.3), 0px 1px 3px 1px rgba(60, 64, 67, 0.15);\n",
              "      fill: #174EA6;\n",
              "    }\n",
              "\n",
              "    .colab-df-buttons div {\n",
              "      margin-bottom: 4px;\n",
              "    }\n",
              "\n",
              "    [theme=dark] .colab-df-convert {\n",
              "      background-color: #3B4455;\n",
              "      fill: #D2E3FC;\n",
              "    }\n",
              "\n",
              "    [theme=dark] .colab-df-convert:hover {\n",
              "      background-color: #434B5C;\n",
              "      box-shadow: 0px 1px 3px 1px rgba(0, 0, 0, 0.15);\n",
              "      filter: drop-shadow(0px 1px 2px rgba(0, 0, 0, 0.3));\n",
              "      fill: #FFFFFF;\n",
              "    }\n",
              "  </style>\n",
              "\n",
              "    <script>\n",
              "      const buttonEl =\n",
              "        document.querySelector('#df-bd272e1a-1d87-4de6-8474-dab945fc8034 button.colab-df-convert');\n",
              "      buttonEl.style.display =\n",
              "        google.colab.kernel.accessAllowed ? 'block' : 'none';\n",
              "\n",
              "      async function convertToInteractive(key) {\n",
              "        const element = document.querySelector('#df-bd272e1a-1d87-4de6-8474-dab945fc8034');\n",
              "        const dataTable =\n",
              "          await google.colab.kernel.invokeFunction('convertToInteractive',\n",
              "                                                    [key], {});\n",
              "        if (!dataTable) return;\n",
              "\n",
              "        const docLinkHtml = 'Like what you see? Visit the ' +\n",
              "          '<a target=\"_blank\" href=https://colab.research.google.com/notebooks/data_table.ipynb>data table notebook</a>'\n",
              "          + ' to learn more about interactive tables.';\n",
              "        element.innerHTML = '';\n",
              "        dataTable['output_type'] = 'display_data';\n",
              "        await google.colab.output.renderOutput(dataTable, element);\n",
              "        const docLink = document.createElement('div');\n",
              "        docLink.innerHTML = docLinkHtml;\n",
              "        element.appendChild(docLink);\n",
              "      }\n",
              "    </script>\n",
              "  </div>\n",
              "\n",
              "\n",
              "    <div id=\"df-df02b7e0-a41d-4008-966a-0e5590fe3236\">\n",
              "      <button class=\"colab-df-quickchart\" onclick=\"quickchart('df-df02b7e0-a41d-4008-966a-0e5590fe3236')\"\n",
              "                title=\"Suggest charts\"\n",
              "                style=\"display:none;\">\n",
              "\n",
              "<svg xmlns=\"http://www.w3.org/2000/svg\" height=\"24px\"viewBox=\"0 0 24 24\"\n",
              "     width=\"24px\">\n",
              "    <g>\n",
              "        <path d=\"M19 3H5c-1.1 0-2 .9-2 2v14c0 1.1.9 2 2 2h14c1.1 0 2-.9 2-2V5c0-1.1-.9-2-2-2zM9 17H7v-7h2v7zm4 0h-2V7h2v10zm4 0h-2v-4h2v4z\"/>\n",
              "    </g>\n",
              "</svg>\n",
              "      </button>\n",
              "\n",
              "<style>\n",
              "  .colab-df-quickchart {\n",
              "      --bg-color: #E8F0FE;\n",
              "      --fill-color: #1967D2;\n",
              "      --hover-bg-color: #E2EBFA;\n",
              "      --hover-fill-color: #174EA6;\n",
              "      --disabled-fill-color: #AAA;\n",
              "      --disabled-bg-color: #DDD;\n",
              "  }\n",
              "\n",
              "  [theme=dark] .colab-df-quickchart {\n",
              "      --bg-color: #3B4455;\n",
              "      --fill-color: #D2E3FC;\n",
              "      --hover-bg-color: #434B5C;\n",
              "      --hover-fill-color: #FFFFFF;\n",
              "      --disabled-bg-color: #3B4455;\n",
              "      --disabled-fill-color: #666;\n",
              "  }\n",
              "\n",
              "  .colab-df-quickchart {\n",
              "    background-color: var(--bg-color);\n",
              "    border: none;\n",
              "    border-radius: 50%;\n",
              "    cursor: pointer;\n",
              "    display: none;\n",
              "    fill: var(--fill-color);\n",
              "    height: 32px;\n",
              "    padding: 0;\n",
              "    width: 32px;\n",
              "  }\n",
              "\n",
              "  .colab-df-quickchart:hover {\n",
              "    background-color: var(--hover-bg-color);\n",
              "    box-shadow: 0 1px 2px rgba(60, 64, 67, 0.3), 0 1px 3px 1px rgba(60, 64, 67, 0.15);\n",
              "    fill: var(--button-hover-fill-color);\n",
              "  }\n",
              "\n",
              "  .colab-df-quickchart-complete:disabled,\n",
              "  .colab-df-quickchart-complete:disabled:hover {\n",
              "    background-color: var(--disabled-bg-color);\n",
              "    fill: var(--disabled-fill-color);\n",
              "    box-shadow: none;\n",
              "  }\n",
              "\n",
              "  .colab-df-spinner {\n",
              "    border: 2px solid var(--fill-color);\n",
              "    border-color: transparent;\n",
              "    border-bottom-color: var(--fill-color);\n",
              "    animation:\n",
              "      spin 1s steps(1) infinite;\n",
              "  }\n",
              "\n",
              "  @keyframes spin {\n",
              "    0% {\n",
              "      border-color: transparent;\n",
              "      border-bottom-color: var(--fill-color);\n",
              "      border-left-color: var(--fill-color);\n",
              "    }\n",
              "    20% {\n",
              "      border-color: transparent;\n",
              "      border-left-color: var(--fill-color);\n",
              "      border-top-color: var(--fill-color);\n",
              "    }\n",
              "    30% {\n",
              "      border-color: transparent;\n",
              "      border-left-color: var(--fill-color);\n",
              "      border-top-color: var(--fill-color);\n",
              "      border-right-color: var(--fill-color);\n",
              "    }\n",
              "    40% {\n",
              "      border-color: transparent;\n",
              "      border-right-color: var(--fill-color);\n",
              "      border-top-color: var(--fill-color);\n",
              "    }\n",
              "    60% {\n",
              "      border-color: transparent;\n",
              "      border-right-color: var(--fill-color);\n",
              "    }\n",
              "    80% {\n",
              "      border-color: transparent;\n",
              "      border-right-color: var(--fill-color);\n",
              "      border-bottom-color: var(--fill-color);\n",
              "    }\n",
              "    90% {\n",
              "      border-color: transparent;\n",
              "      border-bottom-color: var(--fill-color);\n",
              "    }\n",
              "  }\n",
              "</style>\n",
              "\n",
              "      <script>\n",
              "        async function quickchart(key) {\n",
              "          const quickchartButtonEl =\n",
              "            document.querySelector('#' + key + ' button');\n",
              "          quickchartButtonEl.disabled = true;  // To prevent multiple clicks.\n",
              "          quickchartButtonEl.classList.add('colab-df-spinner');\n",
              "          try {\n",
              "            const charts = await google.colab.kernel.invokeFunction(\n",
              "                'suggestCharts', [key], {});\n",
              "          } catch (error) {\n",
              "            console.error('Error during call to suggestCharts:', error);\n",
              "          }\n",
              "          quickchartButtonEl.classList.remove('colab-df-spinner');\n",
              "          quickchartButtonEl.classList.add('colab-df-quickchart-complete');\n",
              "        }\n",
              "        (() => {\n",
              "          let quickchartButtonEl =\n",
              "            document.querySelector('#df-df02b7e0-a41d-4008-966a-0e5590fe3236 button');\n",
              "          quickchartButtonEl.style.display =\n",
              "            google.colab.kernel.accessAllowed ? 'block' : 'none';\n",
              "        })();\n",
              "      </script>\n",
              "    </div>\n",
              "\n",
              "    </div>\n",
              "  </div>\n"
            ],
            "application/vnd.google.colaboratory.intrinsic+json": {
              "type": "dataframe",
              "variable_name": "df"
            }
          },
          "metadata": {},
          "execution_count": 57
        }
      ]
    },
    {
      "cell_type": "code",
      "source": [
        "df.shape"
      ],
      "metadata": {
        "colab": {
          "base_uri": "https://localhost:8080/"
        },
        "id": "zx88Oai_frkE",
        "outputId": "f70dcb9a-a3de-4300-85c9-bc20671f76b7"
      },
      "execution_count": 58,
      "outputs": [
        {
          "output_type": "execute_result",
          "data": {
            "text/plain": [
              "(60000, 785)"
            ]
          },
          "metadata": {},
          "execution_count": 58
        }
      ]
    },
    {
      "cell_type": "code",
      "source": [
        "df.columns"
      ],
      "metadata": {
        "colab": {
          "base_uri": "https://localhost:8080/"
        },
        "id": "j10r4iMBf7j5",
        "outputId": "8736a618-e000-4c3b-b54a-5c1fed0616a4"
      },
      "execution_count": 59,
      "outputs": [
        {
          "output_type": "execute_result",
          "data": {
            "text/plain": [
              "Index(['label', 'pixel1', 'pixel2', 'pixel3', 'pixel4', 'pixel5', 'pixel6',\n",
              "       'pixel7', 'pixel8', 'pixel9',\n",
              "       ...\n",
              "       'pixel775', 'pixel776', 'pixel777', 'pixel778', 'pixel779', 'pixel780',\n",
              "       'pixel781', 'pixel782', 'pixel783', 'pixel784'],\n",
              "      dtype='object', length=785)"
            ]
          },
          "metadata": {},
          "execution_count": 59
        }
      ]
    },
    {
      "cell_type": "code",
      "source": [
        "fig,axes = plt.subplots(4,4,figsize=(10,10))\n",
        "fig.suptitle('first 16 Images',fontsize=16)\n",
        "\n",
        "for i,ax in enumerate(axes.flat):\n",
        "  img = df.iloc[i,1:].values.reshape(28,28)\n",
        "  ax.imshow(img)\n",
        "  ax.axis('off')\n",
        "  ax.set_title(f\"label : {df.iloc[i,0]}\")\n",
        "\n",
        "plt.tight_layout(rect=[0,0,1,0.96])\n",
        "plt.show()"
      ],
      "metadata": {
        "colab": {
          "base_uri": "https://localhost:8080/",
          "height": 1000
        },
        "id": "OkpkPgSXf-WU",
        "outputId": "f55488b1-8f84-4e04-c17c-e51bc26244e9"
      },
      "execution_count": 60,
      "outputs": [
        {
          "output_type": "display_data",
          "data": {
            "text/plain": [
              "<Figure size 1000x1000 with 16 Axes>"
            ],
            "image/png": "[encoded data removed]"
          },
          "metadata": {}
        }
      ]
    },
    {
      "cell_type": "code",
      "source": [
        "x = df.iloc[:,1:].values\n",
        "y = df.iloc[:,0].values"
      ],
      "metadata": {
        "id": "TqRwPUhShzjc"
      },
      "execution_count": 61,
      "outputs": []
    },
    {
      "cell_type": "code",
      "source": [
        "X_train,X_test,y_train,y_test = train_test_split(x,y,test_size=0.2,random_state=42)"
      ],
      "metadata": {
        "id": "89HcSOiiijrc"
      },
      "execution_count": 62,
      "outputs": []
    },
    {
      "cell_type": "code",
      "source": [
        "# if you training a nn makesure values be in 0-1 range\n",
        "# In the above some are values are 0 and other values 143,213 etc so now we need to scale\n",
        "X_train = X_train/255.0\n",
        "X_test = X_test/255.0"
      ],
      "metadata": {
        "id": "s0FkwoVeisMS"
      },
      "execution_count": 63,
      "outputs": []
    },
    {
      "cell_type": "code",
      "source": [
        "#create Custom Dataset Class\n",
        "class CustomDataset(Dataset):\n",
        "  def __init__(self,features,labels):\n",
        "    self.features = torch.tensor(features,dtype=torch.float32)\n",
        "    self.labels = torch.tensor(labels,dtype=torch.long)\n",
        "\n",
        "  def __len__(self):\n",
        "    return len(self.features)\n",
        "\n",
        "  def __getitem__(self,idx):\n",
        "    return self.features[idx],self.labels[idx]\n",
        "\n"
      ],
      "metadata": {
        "id": "dEUGgf42i647"
      },
      "execution_count": 64,
      "outputs": []
    },
    {
      "cell_type": "code",
      "source": [
        "# create Train data dataset\n",
        "train_dataset = CustomDataset(X_train,y_train)"
      ],
      "metadata": {
        "id": "jsVHy5q8j17o"
      },
      "execution_count": 65,
      "outputs": []
    },
    {
      "cell_type": "code",
      "source": [
        "test_dataset = CustomDataset(X_test,y_test)"
      ],
      "metadata": {
        "id": "4QyK5ruikAy7"
      },
      "execution_count": 66,
      "outputs": []
    },
    {
      "cell_type": "code",
      "source": [
        "trainLoader = DataLoader(train_dataset,batch_size=32,shuffle=True,pin_memory=True)\n",
        "testLoader = DataLoader(test_dataset,batch_size=32,shuffle=False,pin_memory=True)"
      ],
      "metadata": {
        "id": "Z5KLFkuVkJJA"
      },
      "execution_count": 67,
      "outputs": []
    },
    {
      "cell_type": "code",
      "source": [
        "# create NN for this\n",
        "class fashnetModel(nn.Module):\n",
        "  def __init__(self,num_features):\n",
        "    super().__init__()\n",
        "    self.model = nn.Sequential(\n",
        "        nn.Linear(num_features,128),\n",
        "        nn.BatchNorm1d(128),\n",
        "        nn.ReLU(),\n",
        "        nn.Dropout(p=0.3),\n",
        "        nn.Linear(128,64),\n",
        "        nn.BatchNorm1d(64),\n",
        "        nn.ReLU(),\n",
        "        nn.Dropout(p=0.3),\n",
        "        nn.Linear(64,10)\n",
        "    )\n",
        "\n",
        "  def forward(self,x):\n",
        "    return self.model(x)"
      ],
      "metadata": {
        "id": "ACMCwqodkZDs"
      },
      "execution_count": 69,
      "outputs": []
    },
    {
      "cell_type": "code",
      "source": [
        "epochs = 100\n",
        "learning_rate = 0.1"
      ],
      "metadata": {
        "id": "8nRDeFe_ldw-"
      },
      "execution_count": 70,
      "outputs": []
    },
    {
      "cell_type": "code",
      "source": [
        "model = fashnetModel(X_train.shape[1])\n",
        "model.to(device)\n",
        "criterion = nn.CrossEntropyLoss()\n",
        "optimizer = optim.SGD(model.parameters(),lr=learning_rate,weight_decay=1e-4)"
      ],
      "metadata": {
        "id": "CIevBmOultSR"
      },
      "execution_count": 71,
      "outputs": []
    },
    {
      "cell_type": "code",
      "source": [
        "# Training Loop\n",
        "for epoch in range(epochs):\n",
        "  total_epoch_loss = 0\n",
        "  for batch_features, batch_labels in trainLoader:\n",
        "    batch_features = batch_features.to(device)\n",
        "    batch_labels = batch_labels.to(device)\n",
        "    # forward pass\n",
        "    outputs = model(batch_features)\n",
        "    #loss calculation\n",
        "    loss = criterion(outputs,batch_labels)\n",
        "    # BackPropagation\n",
        "    optimizer.zero_grad()\n",
        "    loss.backward()\n",
        "    # Update grads\n",
        "    optimizer.step()\n",
        "    total_epoch_loss += loss.item()\n",
        "\n",
        "  avg_loss = total_epoch_loss/len(trainLoader)\n",
        "  print(f'Epoch [{epoch+1}/{epochs}], Loss: {avg_loss}')\n"
      ],
      "metadata": {
        "colab": {
          "base_uri": "https://localhost:8080/"
        },
        "id": "2RWQwEd2mLwm",
        "outputId": "4f6339dd-762c-48fe-84b4-3ab08776456e"
      },
      "execution_count": 72,
      "outputs": [
        {
          "output_type": "stream",
          "name": "stdout",
          "text": [
            "Epoch [1/100], Loss: 0.6249084657629331\n",
            "Epoch [2/100], Loss: 0.49199690653880435\n",
            "Epoch [3/100], Loss: 0.45562089485426743\n",
            "Epoch [4/100], Loss: 0.43380642544229825\n",
            "Epoch [5/100], Loss: 0.41715061584611735\n",
            "Epoch [6/100], Loss: 0.40564093277355034\n",
            "Epoch [7/100], Loss: 0.3941608931571245\n",
            "Epoch [8/100], Loss: 0.38580174928406874\n",
            "Epoch [9/100], Loss: 0.3743983890265226\n",
            "Epoch [10/100], Loss: 0.3725726637095213\n",
            "Epoch [11/100], Loss: 0.36783315147956214\n",
            "Epoch [12/100], Loss: 0.3572052289446195\n",
            "Epoch [13/100], Loss: 0.35052060889204345\n",
            "Epoch [14/100], Loss: 0.3449219484726588\n",
            "Epoch [15/100], Loss: 0.34472562207778296\n",
            "Epoch [16/100], Loss: 0.33732124184072015\n",
            "Epoch [17/100], Loss: 0.3344038988550504\n",
            "Epoch [18/100], Loss: 0.3302020480086406\n",
            "Epoch [19/100], Loss: 0.33063985937833784\n",
            "Epoch [20/100], Loss: 0.3262277270356814\n",
            "Epoch [21/100], Loss: 0.3208496819138527\n",
            "Epoch [22/100], Loss: 0.3183093272894621\n",
            "Epoch [23/100], Loss: 0.3225850373158852\n",
            "Epoch [24/100], Loss: 0.31459670132398604\n",
            "Epoch [25/100], Loss: 0.31343053522954384\n",
            "Epoch [26/100], Loss: 0.31424527982374034\n",
            "Epoch [27/100], Loss: 0.3107087447295586\n",
            "Epoch [28/100], Loss: 0.30905606236557165\n",
            "Epoch [29/100], Loss: 0.30456138551731904\n",
            "Epoch [30/100], Loss: 0.30555457953115306\n",
            "Epoch [31/100], Loss: 0.3049893262858192\n",
            "Epoch [32/100], Loss: 0.2990328847592076\n",
            "Epoch [33/100], Loss: 0.2957147261897723\n",
            "Epoch [34/100], Loss: 0.3025270953675111\n",
            "Epoch [35/100], Loss: 0.2975629205380877\n",
            "Epoch [36/100], Loss: 0.2932887578730782\n",
            "Epoch [37/100], Loss: 0.2965445194145044\n",
            "Epoch [38/100], Loss: 0.2942666171292464\n",
            "Epoch [39/100], Loss: 0.29699383342514435\n",
            "Epoch [40/100], Loss: 0.29269408106803896\n",
            "Epoch [41/100], Loss: 0.2900963090583682\n",
            "Epoch [42/100], Loss: 0.29302587602535884\n",
            "Epoch [43/100], Loss: 0.28363666945695876\n",
            "Epoch [44/100], Loss: 0.2919491047312816\n",
            "Epoch [45/100], Loss: 0.2869964749366045\n",
            "Epoch [46/100], Loss: 0.28614654070387285\n",
            "Epoch [47/100], Loss: 0.28337486318995553\n",
            "Epoch [48/100], Loss: 0.2853851882964373\n",
            "Epoch [49/100], Loss: 0.28143458073337874\n",
            "Epoch [50/100], Loss: 0.28615346193810304\n",
            "Epoch [51/100], Loss: 0.2813802812471986\n",
            "Epoch [52/100], Loss: 0.2850787458072106\n",
            "Epoch [53/100], Loss: 0.28224215473234654\n",
            "Epoch [54/100], Loss: 0.2766474921082457\n",
            "Epoch [55/100], Loss: 0.2791844342624148\n",
            "Epoch [56/100], Loss: 0.27622364699592195\n",
            "Epoch [57/100], Loss: 0.2754693392490347\n",
            "Epoch [58/100], Loss: 0.2810292858034372\n",
            "Epoch [59/100], Loss: 0.27903168317178884\n",
            "Epoch [60/100], Loss: 0.2712486651415626\n",
            "Epoch [61/100], Loss: 0.27578496079146864\n",
            "Epoch [62/100], Loss: 0.27884910389532647\n",
            "Epoch [63/100], Loss: 0.2776100363681714\n",
            "Epoch [64/100], Loss: 0.27413916720449927\n",
            "Epoch [65/100], Loss: 0.2740081043491761\n",
            "Epoch [66/100], Loss: 0.27122707731525103\n",
            "Epoch [67/100], Loss: 0.27373021041353546\n",
            "Epoch [68/100], Loss: 0.2706573732147614\n",
            "Epoch [69/100], Loss: 0.2688021772454182\n",
            "Epoch [70/100], Loss: 0.26957957439124586\n",
            "Epoch [71/100], Loss: 0.2715307016024987\n",
            "Epoch [72/100], Loss: 0.26825548566132784\n",
            "Epoch [73/100], Loss: 0.2668902626161774\n",
            "Epoch [74/100], Loss: 0.27011305320511264\n",
            "Epoch [75/100], Loss: 0.2709736890395482\n",
            "Epoch [76/100], Loss: 0.2661648584852616\n",
            "Epoch [77/100], Loss: 0.26841326568772395\n",
            "Epoch [78/100], Loss: 0.26969201562802\n",
            "Epoch [79/100], Loss: 0.26594808806975684\n",
            "Epoch [80/100], Loss: 0.268957344075044\n",
            "Epoch [81/100], Loss: 0.26978943943356476\n",
            "Epoch [82/100], Loss: 0.2651482248728474\n",
            "Epoch [83/100], Loss: 0.26203845981011786\n",
            "Epoch [84/100], Loss: 0.2653629647816221\n",
            "Epoch [85/100], Loss: 0.26354520851373675\n",
            "Epoch [86/100], Loss: 0.264335224258403\n",
            "Epoch [87/100], Loss: 0.263218504977723\n",
            "Epoch [88/100], Loss: 0.26225984493643045\n",
            "Epoch [89/100], Loss: 0.2637392637344698\n",
            "Epoch [90/100], Loss: 0.2622185300216079\n",
            "Epoch [91/100], Loss: 0.26100119842340547\n",
            "Epoch [92/100], Loss: 0.25949237529436747\n",
            "Epoch [93/100], Loss: 0.2640981309438745\n",
            "Epoch [94/100], Loss: 0.25850859739631415\n",
            "Epoch [95/100], Loss: 0.2598261434808373\n",
            "Epoch [96/100], Loss: 0.25824180399626495\n",
            "Epoch [97/100], Loss: 0.2602926436389486\n",
            "Epoch [98/100], Loss: 0.2628986798723539\n",
            "Epoch [99/100], Loss: 0.25917997453113395\n",
            "Epoch [100/100], Loss: 0.2601920442531506\n"
          ]
        }
      ]
    },
    {
      "cell_type": "code",
      "source": [
        "model.eval()"
      ],
      "metadata": {
        "colab": {
          "base_uri": "https://localhost:8080/"
        },
        "id": "fCyy4cYRnUFX",
        "outputId": "51044cac-923b-4d6a-8b5b-b8572ce82513"
      },
      "execution_count": 73,
      "outputs": [
        {
          "output_type": "execute_result",
          "data": {
            "text/plain": [
              "fashnetModel(\n",
              "  (model): Sequential(\n",
              "    (0): Linear(in_features=784, out_features=128, bias=True)\n",
              "    (1): BatchNorm1d(128, eps=1e-05, momentum=0.1, affine=True, track_running_stats=True)\n",
              "    (2): ReLU()\n",
              "    (3): Dropout(p=0.3, inplace=False)\n",
              "    (4): Linear(in_features=128, out_features=64, bias=True)\n",
              "    (5): BatchNorm1d(64, eps=1e-05, momentum=0.1, affine=True, track_running_stats=True)\n",
              "    (6): ReLU()\n",
              "    (7): Dropout(p=0.3, inplace=False)\n",
              "    (8): Linear(in_features=64, out_features=10, bias=True)\n",
              "  )\n",
              ")"
            ]
          },
          "metadata": {},
          "execution_count": 73
        }
      ]
    },
    {
      "cell_type": "code",
      "source": [
        "# eval_code\n",
        "total = 0\n",
        "correct = 0\n",
        "with torch.no_grad():\n",
        "  for batch_features,batch_labels in testLoader:\n",
        "    batch_features = batch_features.to(device)\n",
        "    batch_labels = batch_labels.to(device)\n",
        "    output = model(batch_features)\n",
        "    _,predicted = torch.max(output.data,1)\n",
        "    total += batch_labels.size(0)\n",
        "    correct += (predicted == batch_labels).sum().item()\n",
        "\n",
        "print(correct/total)"
      ],
      "metadata": {
        "colab": {
          "base_uri": "https://localhost:8080/"
        },
        "id": "TuwN7-xAoNAe",
        "outputId": "6cbd1f65-627b-4582-848c-d6dfc0218778"
      },
      "execution_count": 74,
      "outputs": [
        {
          "output_type": "stream",
          "name": "stdout",
          "text": [
            "0.88325\n"
          ]
        }
      ]
    },
    {
      "cell_type": "code",
      "source": [],
      "metadata": {
        "id": "ouzPoJw-o7aK"
      },
      "execution_count": 74,
      "outputs": []
    }
  ]
}